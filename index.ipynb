{
  "cells": [
    {
      "cell_type": "code",
      "source": [
        "!pip install pyspark"
      ],
      "metadata": {
        "id": "5A_p5Ueu0Vgj",
        "outputId": "5039beb8-a416-46eb-b2dd-a62e96d14174",
        "colab": {
          "base_uri": "https://localhost:8080/",
          "height": 0
        }
      },
      "execution_count": 2,
      "outputs": [
        {
          "output_type": "stream",
          "name": "stdout",
          "text": [
            "Collecting pyspark\n",
            "  Downloading pyspark-3.2.1.tar.gz (281.4 MB)\n",
            "\u001b[K     |████████████████████████████████| 281.4 MB 35 kB/s \n",
            "\u001b[?25hCollecting py4j==0.10.9.3\n",
            "  Downloading py4j-0.10.9.3-py2.py3-none-any.whl (198 kB)\n",
            "\u001b[K     |████████████████████████████████| 198 kB 38.3 MB/s \n",
            "\u001b[?25hBuilding wheels for collected packages: pyspark\n",
            "  Building wheel for pyspark (setup.py) ... \u001b[?25l\u001b[?25hdone\n",
            "  Created wheel for pyspark: filename=pyspark-3.2.1-py2.py3-none-any.whl size=281853642 sha256=fdab0ee0b95503560f2268912e53062c177aa010e15cabc8e447b11247dea9b5\n",
            "  Stored in directory: /root/.cache/pip/wheels/9f/f5/07/7cd8017084dce4e93e84e92efd1e1d5334db05f2e83bcef74f\n",
            "Successfully built pyspark\n",
            "Installing collected packages: py4j, pyspark\n",
            "Successfully installed py4j-0.10.9.3 pyspark-3.2.1\n"
          ]
        }
      ]
    },
    {
      "cell_type": "markdown",
      "metadata": {
        "id": "G5CObdyh0S_N"
      },
      "source": [
        "## Resilient Distributed Datasets (RDDs) - Lab\n",
        "\n",
        "Resilient Distributed Datasets (RDD) are fundamental data structures of Spark. An RDD is essentially the Spark representation of a set of data, spread across multiple machines, with APIs to let you act on it. An RDD can come from any data source, e.g. text files, a database, a JSON file, etc.\n",
        "\n",
        "\n",
        "## Objectives\n",
        "\n",
        "You will be able to:\n",
        "\n",
        "- Apply the map(func) transformation to a given function on all elements of an RDD in different partitions \n",
        "- Apply a map transformation for all elements of an RDD \n",
        "- Compare the difference between a transformation and an action within RDDs \n",
        "- Use collect(), count(), and take() actions to trigger spark transformations  \n",
        "- Use filter to select data that meets certain specifications within an RDD \n",
        "- Set number of partitions for parallelizing RDDs \n",
        "- Create RDDs from Python collections \n"
      ]
    },
    {
      "cell_type": "markdown",
      "metadata": {
        "id": "BM6_2UsR0S_P"
      },
      "source": [
        "## What are RDDs? \n",
        "\n",
        "To get a better understanding of RDDs, let's break down each one of the components of the acronym RDD:\n",
        "\n",
        "**Resilient:** RDDs are considered \"resilient\" because they have built-in fault tolerance. This means that even if one of the nodes goes offline, RDDs will be able to restore the data. This is already a huge advantage compared to standard storage. If a standard computer dies while performing an operation, all of its memory will be lost in the process. With RDDs, multiple nodes can go offline, and the action will still be held in working memory.\n",
        "\n",
        "**Distributed:** The data is contained on multiple nodes of a cluster-computing operation. It is efficiently partitioned to allow for parallelism.\n",
        "\n",
        "**Dataset:** The dataset has been * partitioned * across the multiple nodes. \n",
        "\n",
        "RDDs are the building block upon which more high-level Spark operations are based upon. Chances are, if you are performing an action using Spark, the operation involves RDDs. \n",
        "\n",
        "Key Characteristics of RDDs:\n",
        "\n",
        "- **Immutable:** Once an RDD is created, it cannot be modified. \n",
        "- **Lazily Evaluated:** RDDs will not be evaluated until an action is triggered. Essentially, when RDDs are created, they are programmed to perform some action, but that function will not get activated until it is explicitly called. The reason for lazy evaluation is that allows users to organize the actions of their Spark program into smaller actions. It also saves unnecessary computation and memory load.\n",
        "- **In-Memory:** The operations in Spark are performed in-memory rather than in the database. This is what allows Spark to perform fast operations with very large quantities of data.\n"
      ]
    },
    {
      "cell_type": "markdown",
      "metadata": {
        "id": "1qzU0uRg0S_Q"
      },
      "source": [
        "### RDD Transformations vs Actions\n",
        "\n",
        "In Spark, we first create a __base RDD__ and then apply one or more transformations to that base RDD following our processing needs. Being immutable means, **once an RDD is created, it cannot be changed**. As a result, **each transformation of an RDD creates a new RDD**. Finally, we can apply one or more **actions** to the RDDs. Spark uses lazy evaluation, so transformations are not actually executed until an action occurs.\n",
        "\n",
        "\n",
        "<img src=\"https://github.com/miladshiraniUCB/Spark-6-dsc-resilient-distributed-datasets-rdd-lab/blob/master/images/rdd_diagram.png?raw=1\" width=500>"
      ]
    },
    {
      "cell_type": "markdown",
      "metadata": {
        "id": "MvxBywuT0S_Q"
      },
      "source": [
        "### Transformations\n",
        "\n",
        "Transformations create a new dataset from an existing one by passing each dataset element through a function and returning a new RDD representing the results. In short, creating an RDD from an existing RDD is ‘transformation’.\n",
        "All transformations in Spark are lazy. They do not compute their results right away. Instead, they just remember the transformations applied to some base dataset (e.g. a file). The transformations are only computed when an action requires a result that needs to be returned to the driver program.\n",
        "A transformation is an RDD that returns another RDD, like map, flatMap, filter, reduceByKey, join, cogroup, etc.\n",
        "\n",
        "### Actions\n",
        "Actions return final results of RDD computations. Actions trigger execution using lineage graph to load the data into original RDD and carry out all intermediate transformations and return the final results to the driver program or writes it out to the file system. An action returns a value (to a Spark driver - the user program).\n",
        "\n",
        "Here are some key transformations and actions that we will explore.\n",
        "\n",
        "\n",
        "| Transformations   | Actions       |\n",
        "|-------------------|---------------|\n",
        "| map(func)         | reduce(func)  |\n",
        "| filter(func)      | collect()     |\n",
        "| groupByKey()      | count()       |\n",
        "| reduceByKey(func) | first()       |\n",
        "| mapValues(func)   | take()        |\n",
        "| sample()          | countByKey()  |\n",
        "| distinct()        | foreach(func) |\n",
        "| sortByKey()       |               |\n"
      ]
    },
    {
      "cell_type": "markdown",
      "metadata": {
        "id": "8qGtLrGL0S_Y"
      },
      "source": [
        "Let's see how transformations and actions work through a simple example. In this example, we will perform several actions and transformations on RDDs in order to obtain a better understanding of Spark processing. \n",
        "\n",
        "### Create a Python collection \n",
        "\n",
        "We need some data to start experimenting with RDDs. Let's create some sample data and see how RDDs handle it. To practice working with RDDs, we're going to use a simple Python list.\n",
        "\n",
        "- Create a Python list `data` of integers between 1 and 1000 using the `range()` function. \n",
        "- Sanity check: confirm the length of the list (it should be 1000)"
      ]
    },
    {
      "cell_type": "code",
      "execution_count": 4,
      "metadata": {
        "id": "NYeCZ0QJ0S_Z",
        "outputId": "4d9a06f5-d7f5-41a0-f14c-73209b86fb98",
        "colab": {
          "base_uri": "https://localhost:8080/",
          "height": 0
        }
      },
      "outputs": [
        {
          "output_type": "execute_result",
          "data": {
            "text/plain": [
              "1000"
            ]
          },
          "metadata": {},
          "execution_count": 4
        }
      ],
      "source": [
        "data = range(1, 1001)\n",
        "len(data)\n",
        "\n",
        "# 1000"
      ]
    },
    {
      "cell_type": "markdown",
      "metadata": {
        "id": "q9-6UDzG0S_a"
      },
      "source": [
        "### Initialize an RDD\n",
        "\n",
        "When using Spark to make computations, datasets are treated as lists of entries. Those lists are split into different partitions across different cores or different computers. Each list of data held in memory is a partition of the RDD. The reason why Spark is able to make computations far faster than other big data processing languages is that it allows all data to be stored __in-memory__, which allows for easy access to the data and, in turn, high-speed processing. Here is an example of how the alphabet might be split into different RDDs and held across a distributed collection of nodes:\n",
        "\n",
        "<img src =\"./images/partitions_1.png\" width =\"500\">\n",
        "\n",
        "To initialize an RDD, first import `pyspark` and then create a SparkContext assigned to the variable `sc`. Use `'local[*]'` as the master."
      ]
    },
    {
      "cell_type": "code",
      "execution_count": 5,
      "metadata": {
        "id": "kBKQk6ZQ0S_a"
      },
      "outputs": [],
      "source": [
        "import pyspark\n",
        "sc = pyspark.SparkContext(\"local[*]\")"
      ]
    },
    {
      "cell_type": "markdown",
      "metadata": {
        "id": "7KH3Frs60S_a"
      },
      "source": [
        "Once you've created the SparkContext, you can use the `.parallelize()` method to create an RDD that will distribute the list of numbers across multiple cores. Here, create one called `rdd` with 10 partitions using `data` as the collection you are parallelizing."
      ]
    },
    {
      "cell_type": "code",
      "execution_count": 7,
      "metadata": {
        "id": "q8VTRqFc0S_a",
        "outputId": "230a125d-8892-406f-dbc2-3897d7e8a95e",
        "colab": {
          "base_uri": "https://localhost:8080/",
          "height": 0
        }
      },
      "outputs": [
        {
          "output_type": "stream",
          "name": "stdout",
          "text": [
            "<class 'pyspark.rdd.PipelinedRDD'>\n"
          ]
        }
      ],
      "source": [
        "rdd = sc.parallelize(data, numSlices=10)\n",
        "print(type(rdd))\n",
        "# <class 'pyspark.rdd.RDD'>"
      ]
    },
    {
      "cell_type": "markdown",
      "metadata": {
        "id": "cugj6Dy_0S_b"
      },
      "source": [
        "Determine how many partitions are being used with this RDD with the `.getNumPartitions()` method."
      ]
    },
    {
      "cell_type": "code",
      "execution_count": 8,
      "metadata": {
        "id": "X51Es8AV0S_b",
        "outputId": "3c316e82-e95c-4267-9f47-336d5b9b0f8f",
        "colab": {
          "base_uri": "https://localhost:8080/",
          "height": 0
        }
      },
      "outputs": [
        {
          "output_type": "execute_result",
          "data": {
            "text/plain": [
              "10"
            ]
          },
          "metadata": {},
          "execution_count": 8
        }
      ],
      "source": [
        "rdd.getNumPartitions()\n",
        "# 10"
      ]
    },
    {
      "cell_type": "markdown",
      "metadata": {
        "id": "FuRyYQnH0S_b"
      },
      "source": [
        "### Basic descriptive RDD actions\n",
        "\n",
        "Let's perform some basic operations on our RDD. In the cell below, use the methods:\n",
        "* `count`: returns the total count of items in the RDD \n",
        "* `first`: returns the first item in the RDD\n",
        "* `take`: returns the first `n` items in the RDD\n",
        "* `top`: returns the top `n` items\n",
        "* `collect`: returns everything from your RDD\n",
        "\n",
        "\n",
        "It's important to note that in a big data context, calling the collect method will often take a very long time to execute and should be handled with care!"
      ]
    },
    {
      "cell_type": "code",
      "execution_count": 11,
      "metadata": {
        "scrolled": true,
        "id": "D341xv-h0S_b",
        "outputId": "24f1ca1b-2127-41fc-dfe9-86029a6e852a",
        "colab": {
          "base_uri": "https://localhost:8080/",
          "height": 0
        }
      },
      "outputs": [
        {
          "output_type": "execute_result",
          "data": {
            "text/plain": [
              "1000"
            ]
          },
          "metadata": {},
          "execution_count": 11
        }
      ],
      "source": [
        "# count\n",
        "rdd.count()"
      ]
    },
    {
      "cell_type": "code",
      "execution_count": 12,
      "metadata": {
        "id": "tlPD4-Cj0S_c",
        "outputId": "c35770d1-2e4a-4ae3-83ff-03feac567d55",
        "colab": {
          "base_uri": "https://localhost:8080/",
          "height": 0
        }
      },
      "outputs": [
        {
          "output_type": "execute_result",
          "data": {
            "text/plain": [
              "1"
            ]
          },
          "metadata": {},
          "execution_count": 12
        }
      ],
      "source": [
        "# first\n",
        "rdd.first()"
      ]
    },
    {
      "cell_type": "code",
      "execution_count": 15,
      "metadata": {
        "id": "W-FxIcoJ0S_c",
        "outputId": "16ee2953-870e-453c-c060-3638c3f57434",
        "colab": {
          "base_uri": "https://localhost:8080/",
          "height": 0
        }
      },
      "outputs": [
        {
          "output_type": "execute_result",
          "data": {
            "text/plain": [
              "[1, 2, 3, 4, 5, 6, 7, 8, 9, 10]"
            ]
          },
          "metadata": {},
          "execution_count": 15
        }
      ],
      "source": [
        "# take\n",
        "rdd.take(10)"
      ]
    },
    {
      "cell_type": "code",
      "execution_count": 16,
      "metadata": {
        "id": "1Ir10sax0S_c",
        "outputId": "ec1f94a5-7312-49cf-c0c1-ece7ac4fe379",
        "colab": {
          "base_uri": "https://localhost:8080/",
          "height": 0
        }
      },
      "outputs": [
        {
          "output_type": "execute_result",
          "data": {
            "text/plain": [
              "[1000, 999, 998, 997, 996, 995, 994, 993, 992, 991]"
            ]
          },
          "metadata": {},
          "execution_count": 16
        }
      ],
      "source": [
        "# top\n",
        "rdd.top(10)"
      ]
    },
    {
      "cell_type": "code",
      "execution_count": 18,
      "metadata": {
        "scrolled": true,
        "id": "YbvFM2UE0S_d"
      },
      "outputs": [],
      "source": [
        "# collect\n",
        "## Note: When you are dealing with big data, this could make your computer crash!\n",
        "## It's best to avoid using the collect() method\n",
        "\n",
        "# rdd.collect()       ------> it gives backe 1 to 1000"
      ]
    },
    {
      "cell_type": "markdown",
      "metadata": {
        "id": "oYeP3X8a0S_d"
      },
      "source": [
        "## Map functions\n",
        "\n",
        "Now that you've been working a little bit with RDDs, let's make this a little more interesting. Imagine you're running a hot new e-commerce startup called BuyStuff, and you're trying to track of how much it charges customers from each item sold. In the next cell, we're going to create simulated data by multiplying the values 1-1000 with a random number from 0-1."
      ]
    },
    {
      "cell_type": "code",
      "execution_count": 19,
      "metadata": {
        "id": "_vgkZcQY0S_d",
        "outputId": "8fd29222-ea21-4397-9037-315cc9ac8731",
        "colab": {
          "base_uri": "https://localhost:8080/",
          "height": 0
        }
      },
      "outputs": [
        {
          "output_type": "execute_result",
          "data": {
            "text/plain": [
              "array([4.17022005e-01, 1.44064899e+00, 3.43124452e-04, 1.20933029e+00,\n",
              "       7.33779454e-01, 5.54031569e-01, 1.30382148e+00, 2.76448582e+00,\n",
              "       3.57090727e+00, 5.38816734e+00, 4.61113966e+00, 8.22263400e+00,\n",
              "       2.65787925e+00, 1.22936441e+01, 4.10813898e-01, 1.07274802e+01,\n",
              "       7.09418164e+00, 1.00564169e+01, 2.66735183e+00, 3.96202978e+00,\n",
              "       1.68156359e+01, 2.13017547e+01, 7.20875610e+00, 1.66157428e+01,\n",
              "       2.19097288e+01, 2.32597733e+01, 2.29619371e+00, 1.09353393e+00,\n",
              "       4.92508217e+00, 2.63442751e+01, 3.04875185e+00, 1.34754440e+01,\n",
              "       3.16103545e+01, 1.81276197e+01, 2.42156990e+01, 1.13585627e+01,\n",
              "       2.54005343e+01, 3.17157755e+01, 7.13242816e-01, 3.00057726e+01,\n",
              "       4.05433046e+01, 3.14229575e+01, 1.20590917e+01, 3.47282905e+01,\n",
              "       4.64517030e+00, 2.06031022e+01, 4.27039886e+01, 1.40934791e+01,\n",
              "       1.41009916e+01, 6.50142861e+00, 9.87714851e-01, 3.52994477e+01,\n",
              "       1.12162901e+01, 1.43395196e+01, 2.70365238e+01, 2.98830253e+00,\n",
              "       3.27247035e+01, 8.51025734e+00, 3.47690267e+01, 4.19855016e+01,\n",
              "       6.24240016e+00, 2.56714712e+01, 4.37472099e+01, 2.65074732e+01,\n",
              "       3.24697483e+00, 3.53691628e+01, 4.44742412e+01, 3.50124596e+01,\n",
              "       6.51770382e+01, 4.10588528e+01, 6.41415360e+01, 9.89817870e+00,\n",
              "       1.01671733e+01, 5.97469554e+01, 2.98257628e+01, 1.25669190e+01,\n",
              "       7.14181607e+01, 2.71257371e+01, 5.93141561e+01, 5.80798388e+01,\n",
              "       7.15477934e+01, 5.11411210e+01, 6.23282220e+01, 2.93074607e+01,\n",
              "       2.29438708e+01, 7.70462148e+01, 3.72439335e+01, 8.49059241e+01,\n",
              "       5.90462933e+01, 5.59526148e+01, 1.04418835e+01, 8.73530118e+01,\n",
              "       4.18418284e+01, 5.43686238e+01, 3.87729963e+01, 2.27545901e+01,\n",
              "       8.76278135e+01, 5.62205897e+01, 2.84162376e-01, 6.17144914e+01,\n",
              "       3.29911351e+01, 5.37599264e+01, 9.12520362e+01, 3.71560550e+01,\n",
              "       9.53961908e+01, 6.60761723e+01, 1.69287298e+00, 1.00379221e+02,\n",
              "       7.53077640e+01, 1.09705514e+02, 1.91297964e+01, 1.53592040e+01,\n",
              "       1.05383287e+02, 7.94372704e+01, 7.59001986e+00, 8.76337141e+01,\n",
              "       8.82035140e+01, 1.08916895e+02, 8.46714463e+01, 1.49125154e+01,\n",
              "       2.40549619e+00, 3.19774040e+00, 3.48169803e+00, 3.05301724e+01,\n",
              "       1.07503494e+02, 6.78927141e+01, 7.02083913e+01, 1.07779954e+02,\n",
              "       1.60183577e+01, 3.62938783e+01, 7.67344646e+01, 1.27986639e+02,\n",
              "       7.46170192e+01, 2.49873678e+00, 1.08085411e+02, 3.16845012e+01,\n",
              "       1.10573412e+02, 5.35247689e+01, 1.20032318e+02, 1.04597030e+02,\n",
              "       7.84298730e+01, 1.93766420e+01, 8.56822960e+00, 1.74734576e+01,\n",
              "       6.46002239e+00, 1.56941428e+01, 3.31792728e+01, 1.05522369e+02,\n",
              "       8.33978303e+01, 1.88339702e+00, 1.08681162e+01, 1.47026002e+02,\n",
              "       8.69193707e+01, 3.13071581e+01, 3.91104904e+01, 1.16036833e+02,\n",
              "       3.06824285e+01, 9.18547105e+01, 1.54233178e+02, 1.35492608e+02,\n",
              "       3.86154892e+01, 7.99906937e+01, 1.01052782e+02, 1.35952868e+02,\n",
              "       2.58705801e+01, 3.08364956e+00, 1.16936980e+01, 8.17059786e+01,\n",
              "       1.02469679e+02, 9.67047443e+01, 5.42689720e+01, 1.70041979e+02,\n",
              "       1.00295923e+02, 6.61445640e+01, 9.64159383e+01, 1.31178860e+02,\n",
              "       1.18454222e+02, 4.71556813e+01, 1.18739354e+01, 6.66151556e+01,\n",
              "       1.13978869e+02, 3.82516698e+01, 1.37754266e+02, 1.22427126e+01,\n",
              "       4.81582932e+01, 1.49684349e+02, 3.61722109e+01, 1.20218646e+02,\n",
              "       9.91626884e+01, 1.75713514e+02, 5.02896832e+01, 1.26645294e+01,\n",
              "       1.41867731e+02, 1.49802538e+02, 1.77024091e+02, 1.82666526e+02,\n",
              "       2.74845988e+00, 4.64036931e+01, 1.22738893e+02, 1.89803264e+02,\n",
              "       1.90985400e+02, 1.12443944e+02, 1.85868089e+02, 1.30879507e+02,\n",
              "       7.99515814e+01, 1.00114077e+02, 1.25092270e+02, 1.14305968e+02,\n",
              "       1.93571918e+02, 1.92934021e+02, 8.33187543e+01, 2.04211656e+02,\n",
              "       3.70525570e+01, 2.70345172e+01, 2.90420190e+01, 1.09223028e+02,\n",
              "       4.67088274e+00, 2.06657506e+02, 1.81138288e+02, 3.30417576e+00,\n",
              "       3.89393725e+01, 7.37181135e+01, 2.92122964e+01, 1.81325915e+02,\n",
              "       7.75657469e+01, 2.12464291e+02, 1.32117219e+02, 2.00373692e+02,\n",
              "       1.93444188e+02, 2.08240233e+02, 1.06232341e+02, 1.26752461e+02,\n",
              "       1.86074637e+02, 6.68582113e+01, 1.15209578e+02, 1.41390033e+02,\n",
              "       3.68138631e+00, 1.41248575e+02, 1.03648647e+02, 1.93766527e+02,\n",
              "       7.59739975e+01, 2.16079067e+02, 1.40419303e+02, 4.48984892e+01,\n",
              "       1.93042662e+02, 1.50559670e+02, 1.33155902e+01, 1.04208033e+02,\n",
              "       1.69088140e+02, 2.29650444e+02, 1.00908248e-01, 2.46143306e+02,\n",
              "       9.52748196e+01, 2.47341019e+02, 1.54202606e+02, 2.12184527e+02,\n",
              "       1.47700857e+02, 1.62043659e+02, 7.39642570e+01, 1.52576669e+02,\n",
              "       1.95755680e+02, 2.24878225e+02, 1.98586616e+02, 1.84287114e+02,\n",
              "       2.29087049e+02, 8.58331452e+01, 1.79100607e+02, 1.20834215e+02,\n",
              "       1.02785640e+02, 1.10919064e+02, 1.08800967e+02, 8.63284333e+01,\n",
              "       1.69783987e+02, 1.17887752e+02, 2.67795571e+02, 1.87073046e+02,\n",
              "       5.50038591e+01, 1.18622881e+02, 9.57936009e+01, 2.23338865e+02,\n",
              "       2.47279519e+02, 2.54883432e+02, 1.87549707e+02, 7.67391464e+01,\n",
              "       7.19245099e+01, 2.44500812e+02, 1.51454103e+02, 2.31022392e+02,\n",
              "       1.65449181e+02, 2.12611332e+02, 1.51032384e+02, 2.25098102e+02,\n",
              "       1.66675391e+02, 1.36918704e+02, 1.01093228e+02, 2.01899671e+01,\n",
              "       1.12243481e+02, 2.37285712e+01, 2.93862317e+02, 5.44838554e+01,\n",
              "       2.44369468e+02, 2.64238417e+02, 2.08589215e+02, 1.73126301e+02,\n",
              "       4.90962882e+01, 1.42865287e+02, 1.05967820e+02, 6.93123070e+01,\n",
              "       1.83086167e+02, 9.68036497e+01, 2.84971027e+02, 2.83806284e+02,\n",
              "       8.04780260e+01, 3.48198684e+01, 6.07832606e+01, 1.57868598e+02,\n",
              "       2.30961657e+02, 6.62058314e+01, 7.91227051e+01, 2.72535000e+02,\n",
              "       1.33487439e+02, 1.98572592e+02, 7.54741630e+01, 3.30373921e+01,\n",
              "       1.67653531e+02, 1.55547962e+02, 4.99236276e+01, 2.03952444e+02,\n",
              "       1.78979329e+02, 2.15865325e+02, 4.78445738e+01, 2.49507235e+02,\n",
              "       7.39423636e+01, 1.73463509e+02, 2.63074169e+02, 7.50302381e+00,\n",
              "       1.09310149e+02, 2.95047763e+02, 2.86356557e+02, 1.83069801e+02,\n",
              "       2.95513421e+02, 3.24833649e+02, 2.83457600e+02, 2.93815713e+02,\n",
              "       3.40664736e+01, 2.25351299e+02, 2.44120395e+02, 2.12363803e+02,\n",
              "       2.79065726e+02, 1.20999270e+01, 2.70353796e+02, 2.57568467e+02,\n",
              "       9.16735328e+01, 9.10025318e+01, 2.24467678e+02, 1.22925896e+02,\n",
              "       2.84382158e+02, 1.59720351e+02, 2.81007040e+02, 3.56569842e+02,\n",
              "       1.08389651e+02, 5.17681098e+01, 3.27174962e+02, 1.97127614e+02,\n",
              "       3.55780235e+02, 2.32997210e+02, 3.64766080e+02, 2.00954056e+02,\n",
              "       1.94251170e+02, 5.01083241e+01, 1.31966618e+02, 9.75330703e+00,\n",
              "       5.98274020e+01, 2.78868310e+02, 1.13998837e+01, 1.37820205e+02,\n",
              "       3.25104537e+02, 2.61832177e+02, 2.61867072e+02, 7.16819844e+01,\n",
              "       1.68365531e+02, 2.22162570e+02, 3.79074904e+02, 7.82999905e+01,\n",
              "       9.53771672e+01, 1.01198810e+02, 2.90316724e+02, 1.77306427e+02,\n",
              "       2.21455515e+01, 1.98321334e+02, 8.28764244e+01, 3.13052864e+02,\n",
              "       1.16851233e+02, 1.08767687e+01, 2.34405818e+02, 3.34160810e+02,\n",
              "       1.51263401e+02, 2.98443608e+02, 2.03945450e+02, 2.16380722e+02,\n",
              "       3.84733163e+02, 3.23192278e+02, 1.30261958e+01, 2.86592449e+02,\n",
              "       1.88325600e+02, 3.84704870e+02, 9.01231229e+01, 1.08965384e+02,\n",
              "       3.33228516e+01, 1.75733720e+02, 4.48067120e+01, 2.61120145e+02,\n",
              "       3.31623817e+02, 2.88475405e+02, 3.17977723e+02, 1.42460914e+02,\n",
              "       3.52720068e+02, 1.79225348e+02, 3.45260136e+02, 2.63128387e+02,\n",
              "       6.03811035e+01, 3.30792717e+01, 7.75470795e+00, 2.82913990e+01,\n",
              "       1.94898121e+02, 4.82836591e+01, 1.18634900e+01, 3.23080714e+02,\n",
              "       1.69390856e+02, 3.21183553e+02, 1.94986480e+02, 1.94437475e+02,\n",
              "       2.07005395e+02, 2.05717704e+02, 3.49376054e+02, 1.75443139e+02,\n",
              "       3.95347852e+02, 1.62327390e+01, 3.39730836e+02, 5.52822077e+01,\n",
              "       2.72764483e+02, 4.58100351e+00, 2.38611886e+02, 1.33997274e+00,\n",
              "       4.23281235e+02, 4.03809307e+02, 3.55797223e+02, 4.10042895e+02,\n",
              "       6.53556458e+01, 7.09785314e+01, 8.46218845e+01, 2.81368148e+02,\n",
              "       4.10331702e+02, 4.49439651e+02, 3.23560719e+02, 3.33700987e+02,\n",
              "       4.15546994e+02, 1.83600169e+02, 1.14681462e+02, 7.97778786e+01,\n",
              "       5.50697002e+01, 3.75426092e+02, 6.79648689e+01, 1.22634032e+02,\n",
              "       3.80876468e+02, 1.44733659e+02, 4.58788949e+02, 1.24786913e+02,\n",
              "       2.50283419e+02, 1.47799495e+02, 4.28974003e+02, 1.73014736e+02,\n",
              "       2.05089171e+02, 2.42826736e+02, 4.45971077e+02, 1.47317270e+01,\n",
              "       3.41951123e+02, 4.25907060e+02, 1.30705801e+01, 2.50584599e+02,\n",
              "       1.56801099e+02, 4.14273853e+02, 2.69763494e+02, 3.34070288e+02,\n",
              "       2.19633947e+02, 3.05358192e+02, 1.41277167e+02, 4.56210605e+00,\n",
              "       2.82033652e+02, 1.52607665e+02, 2.53978391e+02, 4.50871680e+02,\n",
              "       2.10252071e+02, 1.22213642e+02, 1.83790412e+02, 4.62203114e+02,\n",
              "       4.65623586e+02, 4.20476314e+02, 4.59183051e+02, 1.13950145e+02,\n",
              "       4.38285870e+01, 1.14109488e+02, 1.58131438e+02, 8.80820017e+01,\n",
              "       3.06582552e+02, 2.09274726e+02, 4.13890216e+02, 9.40462423e+01,\n",
              "       3.57255154e+02, 1.22581369e+02, 2.93425954e+02, 1.78681650e+02,\n",
              "       2.92227369e+01, 1.17610227e+02, 3.42012816e+02, 2.56581048e+02,\n",
              "       2.68331264e+02, 9.05050378e+01, 2.96201527e+02, 5.18311781e+02,\n",
              "       4.25571092e+02, 3.10262510e+02, 5.10442283e+02, 4.72418794e+02,\n",
              "       3.12694165e+02, 1.70562471e+01, 4.93151295e+01, 3.45162655e+01,\n",
              "       2.38966836e+02, 1.98980462e+02, 5.17910868e+02, 8.93671120e+01,\n",
              "       5.18495787e+02, 4.09831580e+02, 4.40967244e+02, 3.39082078e+02,\n",
              "       3.59109498e+02, 2.56562695e+02, 7.08049638e+00, 1.90623286e+02,\n",
              "       2.66210845e+02, 3.95709436e+02, 2.54465190e+02, 2.48828274e+02,\n",
              "       7.50261938e+01, 5.94524866e+00, 4.14778208e+02, 1.75334155e+02,\n",
              "       5.40426514e+02, 1.21128824e+02, 1.86628122e+02, 2.89190667e+02,\n",
              "       4.17454976e+02, 2.56977212e+02, 6.92765114e+01, 1.73750766e+02,\n",
              "       2.81017178e+02, 3.76007746e+02, 4.30513826e+02, 7.29880373e+01,\n",
              "       1.28553887e+01, 2.91724265e+02, 4.56023644e+02, 7.10852460e+00,\n",
              "       3.79945462e+02, 3.88733456e+02, 2.54722909e+02, 5.19599974e+02,\n",
              "       3.66641457e+02, 2.98670746e+00, 2.76608642e+02, 4.91529785e+02,\n",
              "       4.75818954e+02, 3.72614509e+02, 3.87376594e+02, 3.33215758e+02,\n",
              "       1.58167110e+02, 3.23986335e+02, 3.88931545e+02, 2.04409186e+02,\n",
              "       4.97236281e+02, 1.13511817e+02, 4.35688032e+02, 1.69128004e+02,\n",
              "       4.52672583e+02, 2.50654075e+02, 4.74118966e+02, 2.07878499e+02,\n",
              "       1.25865317e+02, 4.52697860e+02, 1.82407391e+02, 4.34081080e+02,\n",
              "       4.41472580e+02, 1.31509640e+02, 1.27396721e+02, 1.18572962e+02,\n",
              "       8.50834476e+01, 2.25495394e+02, 1.59501029e+01, 6.65522214e+01,\n",
              "       4.05412978e+02, 4.81465475e+02, 4.85593049e+01, 1.39948196e+02,\n",
              "       1.25613525e+02, 5.55904139e+02, 4.31767913e+02, 3.36761844e+02,\n",
              "       1.85451455e+02, 5.09260969e+02, 2.65971940e+02, 5.65155204e+02,\n",
              "       4.32809756e+02, 2.93511223e+02, 7.76192138e+01, 6.01242827e+02,\n",
              "       9.86173623e+01, 1.25208113e+02, 2.66901506e+02, 2.50605182e+02,\n",
              "       9.11326696e+01, 4.53636368e+02, 1.17588177e+02, 4.01790882e+02,\n",
              "       4.71441219e+02, 1.31918477e+02, 3.76798314e+02, 4.70327020e+02,\n",
              "       4.01439569e+02, 3.76190201e+02, 1.86449322e+02, 4.62375290e+02,\n",
              "       5.98380243e+02, 2.69805921e+02, 4.96685454e+02, 3.57057012e+01,\n",
              "       5.32068011e+02, 1.22655511e+02, 2.52466899e+02, 1.92051869e+02,\n",
              "       5.13464357e+01, 5.80773104e+02, 2.38009136e+02, 3.41769150e+02,\n",
              "       3.18704992e+02, 8.53760977e+01, 1.33575776e+02, 4.93703483e+01,\n",
              "       3.29641183e+02, 1.70007209e+02, 2.32447107e+02, 7.04585943e+01,\n",
              "       5.14271351e+02, 6.97058554e+01, 6.45639280e+02, 1.16217724e+02,\n",
              "       3.76070159e+02, 2.95082302e+01, 5.18709635e+02, 1.25139926e+02,\n",
              "       3.48944530e+02, 4.89931334e+02, 9.94045745e+01, 3.65921884e+02,\n",
              "       1.44050444e+02, 5.05624569e+02, 4.82184434e+02, 1.17934755e+02,\n",
              "       5.76655627e+02, 1.32493167e+01, 5.77219025e+02, 3.75583361e+02,\n",
              "       2.71367378e+02, 5.11395432e+02, 4.83927076e+02, 6.67432494e+02,\n",
              "       1.88263578e+02, 2.57210989e+00, 6.34119871e+02, 5.83370031e+02,\n",
              "       4.96347448e+02, 3.52381750e+02, 4.82851116e+02, 5.33882217e+02,\n",
              "       2.56790021e+02, 5.28441252e+02, 5.15678907e+02, 4.21889314e+02,\n",
              "       2.76885622e+02, 4.81142533e+02, 2.15098476e+00, 5.36228480e+02,\n",
              "       6.21216706e+02, 1.66085101e+02, 8.39331931e+01, 1.53317656e+02,\n",
              "       2.10561422e+02, 6.16353899e+02, 3.79673335e+02, 2.00698155e+02,\n",
              "       9.69866375e+01, 2.03681413e+02, 4.31551376e+02, 2.28193525e+02,\n",
              "       3.22438928e+02, 3.13546678e+02, 5.85491700e+02, 3.01854493e+02,\n",
              "       2.45100464e+02, 4.79229839e+02, 1.57473742e+02, 3.32679027e+02,\n",
              "       2.24427935e+02, 4.47574900e+02, 6.27312739e+02, 3.20545324e+02,\n",
              "       5.62455969e+02, 3.28101373e+02, 4.71828890e+02, 9.49255020e+01,\n",
              "       3.12179667e+02, 6.56523256e+02, 4.37761318e+02, 5.55144801e+02,\n",
              "       3.65907941e+02, 3.61588384e+02, 6.12788184e+02, 4.93634482e+01,\n",
              "       4.17915486e+02, 6.88216680e+02, 3.78555695e+02, 1.42348973e+02,\n",
              "       6.21539575e+02, 1.84703130e+02, 5.15033637e+02, 3.97632052e+02,\n",
              "       6.99292344e+02, 4.60760486e+02, 6.19265714e+02, 5.87032838e+00,\n",
              "       7.33100982e+02, 5.76642112e+01, 2.39342229e+02, 7.03937382e+02,\n",
              "       6.65963127e+00, 6.13756584e+02, 6.43325094e+02, 3.28993449e+02,\n",
              "       1.91553150e+02, 6.02017140e+02, 3.58874365e+02, 1.01022634e+02,\n",
              "       6.98670292e+02, 6.75561355e+02, 3.71116588e+02, 6.47667087e+02,\n",
              "       3.16863566e+02, 5.18066394e+02, 3.02074895e+02, 3.84363933e+02,\n",
              "       1.44248846e+02, 7.35321560e+02, 2.24486570e+02, 7.90431009e+01,\n",
              "       1.10401281e+02, 1.07946974e+01, 5.49130351e+02, 4.33534710e+02,\n",
              "       6.11030752e+02, 3.90451541e+02, 6.10494021e+02, 5.37129973e+02,\n",
              "       6.01276873e+02, 3.14617741e+02, 5.02022241e+02, 1.39520375e+02,\n",
              "       2.50054112e+02, 1.34286394e+02, 3.18328398e+02, 1.88306623e+02,\n",
              "       3.17806077e+02, 7.62623872e+02, 2.50810032e+02, 7.70272901e+02,\n",
              "       4.99500309e+02, 2.94821540e+02, 6.74840301e+02, 4.88234351e+02,\n",
              "       1.98854100e+02, 6.26355986e+02, 3.42454360e+02, 2.83148845e+02,\n",
              "       2.61909611e+02, 5.53710887e+02, 2.13576849e+02, 6.43389299e+02,\n",
              "       2.35345169e+02, 4.34208864e+02, 3.89849272e+02, 6.84285130e+02,\n",
              "       7.11597534e+02, 1.47876323e+02, 4.70034813e+02, 7.22156857e+02,\n",
              "       3.59124361e+02, 7.43025854e+02, 2.25145649e+02, 4.91935589e+02,\n",
              "       5.52105051e+02, 1.84846644e+02, 1.11654527e+01, 3.38379857e+02,\n",
              "       7.62985778e+02, 2.79224881e+02, 6.35491601e+02, 1.42584831e+02,\n",
              "       2.79375467e+02, 1.18280936e+02, 5.87035297e+02, 5.73432251e+02,\n",
              "       5.65256298e+02, 2.08291540e+02, 5.69812380e+02, 1.87293174e+02,\n",
              "       3.50335521e+02, 3.07207672e+02, 2.93839643e+02, 4.77381804e+01,\n",
              "       5.23635054e+02, 5.87072780e+02, 5.09892205e+02, 5.39396213e+02,\n",
              "       1.41560615e+02, 1.24638630e+02, 4.29336161e+02, 7.31778159e+02,\n",
              "       1.53969031e+02, 3.87859181e+02, 3.59874228e+02, 4.17722916e+02,\n",
              "       1.35830558e+02, 2.88335020e+02, 2.20765181e+02, 7.12780740e+02,\n",
              "       6.76280748e+02, 3.60936728e+02, 5.14142095e+02, 1.23354838e+02,\n",
              "       4.32661687e+02, 2.52405023e+02, 7.31562961e+02, 5.72201821e+02,\n",
              "       5.40353333e+02, 1.06537610e+02, 4.02352637e+02, 8.44506299e+02,\n",
              "       8.12692392e+02, 5.53483479e+02, 1.30331664e+02, 5.49649090e+02,\n",
              "       4.87035079e+02, 4.03989952e+02, 3.69396336e+02, 5.17769069e+02,\n",
              "       7.35223954e+02, 6.50470821e+02, 5.02305588e+02, 8.02643230e+02,\n",
              "       5.62590456e+01, 8.62471463e+02, 4.61582467e+01, 1.73960116e+02,\n",
              "       3.69063074e+02, 9.39627578e+01, 5.45711610e+02, 4.20414861e+01,\n",
              "       2.49615144e+02, 5.35902060e+01, 6.18393492e+02, 5.88241427e+02,\n",
              "       3.33529503e+02, 1.65987337e+02, 6.59605264e+02, 3.00895293e+02,\n",
              "       7.03841533e+02, 4.32280232e+02, 4.66268797e+02, 2.52998743e+01,\n",
              "       5.72722266e+02, 3.12084287e+02, 2.04221679e+02, 3.87023972e+02,\n",
              "       3.41543439e+02, 4.19991402e+02, 8.76637602e+02, 3.26482751e+02,\n",
              "       6.94645890e+02, 4.96385302e+02, 7.99328849e+02, 3.19457566e+02,\n",
              "       2.21212331e+02, 8.21739354e+02, 3.93114402e+01, 8.59481099e+02,\n",
              "       5.03548259e+02, 3.40985074e+02, 9.02512456e+02, 5.29932827e+01,\n",
              "       4.69686081e+02, 2.82983387e+01, 5.20341098e+02, 1.64587280e+02,\n",
              "       5.76065750e+02, 8.96564240e+02, 8.00535834e+02, 4.13882004e+02,\n",
              "       6.49658618e+02, 7.13716313e+02, 4.54760794e+02, 4.86250811e+02,\n",
              "       1.38872431e+02, 3.40586731e+02, 1.31270217e+02, 6.71649828e+02,\n",
              "       4.41237020e+02, 4.15661803e+02, 8.21320119e+02, 4.89630221e+02,\n",
              "       3.80045383e+02, 2.50069581e+02, 6.70432047e+01, 3.89702877e+02,\n",
              "       2.40279991e+01, 2.71937780e+02, 4.70781392e+02, 9.04113349e+02,\n",
              "       1.02491791e+02, 6.31312509e+02, 4.69436496e+02, 7.30472336e+02,\n",
              "       1.35134185e+02, 7.83768835e+01, 3.76463145e+02, 7.52332366e+02,\n",
              "       1.81133573e+02, 7.26317224e+02, 2.74912203e+02, 2.05613130e+02,\n",
              "       1.58630940e+01, 3.78726107e+02, 3.62408498e+02, 6.27696379e+02,\n",
              "       6.75852356e+01, 1.45584204e+02, 1.58299682e+01, 1.08789317e+02,\n",
              "       6.23762337e+02, 3.85745264e+02, 3.07864235e+02, 5.35595514e+02,\n",
              "       9.54715505e+02, 8.02776026e+02, 6.73737125e+02, 8.85201280e+02,\n",
              "       3.83382019e+01, 6.79421046e+01, 4.58364082e+02, 3.37994056e+02,\n",
              "       9.08197248e+02, 4.74878012e+02, 5.23999286e+02, 8.70193075e+02,\n",
              "       4.34575900e+02, 8.54231495e+02, 2.47242206e+02, 2.67238271e+02,\n",
              "       3.20809078e+02, 5.35517857e+02, 2.15505972e+02, 6.58000588e+02,\n",
              "       1.40080210e+02, 9.24064696e+01, 8.55398487e+02, 2.33078804e+02,\n",
              "       3.80213951e+02, 5.63540503e+02, 5.18966544e+02, 7.51115929e+01,\n",
              "       8.64510550e+02, 9.41624262e+02, 8.05194738e+02, 2.81531420e+02,\n",
              "       5.24151869e+02, 3.37380224e+02, 5.51893974e+02, 9.70505855e+02,\n",
              "       3.10767809e+02, 6.67459013e+02, 3.25641240e+02, 7.74477266e+02])"
            ]
          },
          "metadata": {},
          "execution_count": 19
        }
      ],
      "source": [
        "# Run this cell without changes\n",
        "import numpy as np\n",
        "\n",
        "np.random.seed(1)\n",
        "nums = np.array(range(1, 1001))\n",
        "sales_figures = nums * np.random.rand(1000)\n",
        "sales_figures"
      ]
    },
    {
      "cell_type": "markdown",
      "metadata": {
        "id": "cQLWCWSU0S_e"
      },
      "source": [
        "We now have sales prices for 1000 items currently for sale at BuyStuff. Now create an RDD called `price_items` using the newly created data with 10 slices. After you create it, use one of the basic actions to see what's in the RDD."
      ]
    },
    {
      "cell_type": "code",
      "execution_count": 23,
      "metadata": {
        "id": "xeSpNzsQ0S_e",
        "outputId": "e3bc129f-cab8-4822-df36-dd707b8c7d77",
        "colab": {
          "base_uri": "https://localhost:8080/",
          "height": 0
        }
      },
      "outputs": [
        {
          "output_type": "execute_result",
          "data": {
            "text/plain": [
              "[0.417022004702574,\n",
              " 1.4406489868843162,\n",
              " 0.0003431244520346599,\n",
              " 1.209330290527359,\n",
              " 0.7337794540855652,\n",
              " 0.5540315686127868,\n",
              " 1.3038214796436964,\n",
              " 2.764485816344382,\n",
              " 3.5709072680760294,\n",
              " 5.3881673400335695]"
            ]
          },
          "metadata": {},
          "execution_count": 23
        }
      ],
      "source": [
        "price_items = sc.parallelize(sales_figures, numSlices=10)\n",
        "price_items.take(10)"
      ]
    },
    {
      "cell_type": "markdown",
      "metadata": {
        "id": "0cwqcqly0S_e"
      },
      "source": [
        "Now let's perform some operations on this simple dataset. To begin with, create a function that will take into account how much money BuyStuff will receive after sales tax has been applied. Assume a sales tax of 8%, i.e. that the current price data is actually 108% of what it should be.\n",
        "\n",
        "To make this happen, create a function called `sales_tax()` that returns the amount of money our company will receive after the sales tax has been applied. The function will have this parameter:\n",
        "\n",
        "* `num`: (float) number to be multiplied by the sales tax.\n",
        "\n",
        "Apply that function to the RDD by using the `.map()` method and assign it to a variable `renenue_minus_tax`"
      ]
    },
    {
      "cell_type": "code",
      "execution_count": 31,
      "metadata": {
        "id": "yQuAd-sK0S_f"
      },
      "outputs": [],
      "source": [
        "def sales_tax(num):\n",
        "    return num/1.08\n",
        "\n",
        "revenue_minus_tax = price_items.map(sales_tax)"
      ]
    },
    {
      "cell_type": "markdown",
      "metadata": {
        "id": "OtuEQaG10S_f"
      },
      "source": [
        "Remember, Spark has __lazy evaluation__, which means that the `sales_tax()` function is a transformer that is not executed until you call an action. Use one of the collection methods to execute the transformer now a part of the RDD and observe the contents of the `revenue_minus_tax` RDD."
      ]
    },
    {
      "cell_type": "code",
      "execution_count": 32,
      "metadata": {
        "scrolled": true,
        "id": "nCwYr5ys0S_f",
        "outputId": "e223bf9f-c45f-489d-e9ac-70295c69b52c",
        "colab": {
          "base_uri": "https://localhost:8080/",
          "height": 0
        }
      },
      "outputs": [
        {
          "output_type": "execute_result",
          "data": {
            "text/plain": [
              "[0.38613148583571666,\n",
              " 1.3339342471151074,\n",
              " 0.0003177078259580184,\n",
              " 1.119750269006814,\n",
              " 0.6794254204495974,\n",
              " 0.5129921931599878,\n",
              " 1.2072421107812004,\n",
              " 2.559709089207761,\n",
              " 3.306395618588916,\n",
              " 4.989043833364416]"
            ]
          },
          "metadata": {},
          "execution_count": 32
        }
      ],
      "source": [
        "# perform action to retrieve rdd values\n",
        "revenue_minus_tax.take(10)"
      ]
    },
    {
      "cell_type": "markdown",
      "metadata": {
        "id": "loLu52ax0S_f"
      },
      "source": [
        "### Lambda Functions\n",
        "\n",
        "Note that you can also use lambda functions if you want to quickly perform simple operations on data without creating a function. Let's assume that BuyStuff has also decided to offer a 10% discount on all of their items on the pre-tax amounts of each item. Use a lambda function within a `.map()` method to apply the additional 10% loss in revenue for BuyStuff and assign the transformed RDD to a new RDD called `discounted`."
      ]
    },
    {
      "cell_type": "code",
      "execution_count": 33,
      "metadata": {
        "id": "N5v_W_Y40S_f"
      },
      "outputs": [],
      "source": [
        "discounted = revenue_minus_tax.map(lambda x: x*0.9)"
      ]
    },
    {
      "cell_type": "code",
      "execution_count": 34,
      "metadata": {
        "scrolled": true,
        "id": "6fCC1Rsx0S_g",
        "outputId": "b758e22a-eb26-494e-ad40-ea30ddacac16",
        "colab": {
          "base_uri": "https://localhost:8080/",
          "height": 0
        }
      },
      "outputs": [
        {
          "output_type": "execute_result",
          "data": {
            "text/plain": [
              "[0.347518337252145,\n",
              " 1.2005408224035967,\n",
              " 0.0002859370433622166,\n",
              " 1.0077752421061326,\n",
              " 0.6114828784046377,\n",
              " 0.461692973843989,\n",
              " 1.0865178997030804,\n",
              " 2.303738180286985,\n",
              " 2.9757560567300243,\n",
              " 4.490139450027975]"
            ]
          },
          "metadata": {},
          "execution_count": 34
        }
      ],
      "source": [
        "discounted.take(10)"
      ]
    },
    {
      "cell_type": "markdown",
      "metadata": {
        "id": "ATB-12vY0S_g"
      },
      "source": [
        "## Chaining Methods\n",
        "\n",
        "You are also able to chain methods together with Spark. In one line, remove the tax and discount from the revenue of BuyStuff and use a collection method to see the 15 costliest items."
      ]
    },
    {
      "cell_type": "code",
      "execution_count": 38,
      "metadata": {
        "scrolled": true,
        "id": "GiiGIEb40S_g",
        "outputId": "81ad089b-bd22-4ec7-a060-40add3add15c",
        "colab": {
          "base_uri": "https://localhost:8080/",
          "height": 0
        }
      },
      "outputs": [
        {
          "output_type": "execute_result",
          "data": {
            "text/plain": [
              "[808.7548791977921,\n",
              " 795.5962541991298,\n",
              " 784.6868851954209,\n",
              " 756.8310401687224,\n",
              " 753.4277907153834,\n",
              " 752.0937136346447,\n",
              " 747.1368663633596,\n",
              " 737.66773326942,\n",
              " 730.5313349924388,\n",
              " 725.1608962422889,\n",
              " 720.4254585887082,\n",
              " 718.7262188305615,\n",
              " 716.2342491392883,\n",
              " 712.8320720999051,\n",
              " 711.8595792911022]"
            ]
          },
          "metadata": {},
          "execution_count": 38
        }
      ],
      "source": [
        "price_items.map(lambda x: x/1.08).map(lambda x: 0.9*x).top(15)\n"
      ]
    },
    {
      "cell_type": "markdown",
      "metadata": {
        "id": "HK4b9Nt30S_g"
      },
      "source": [
        "## RDD Lineage\n",
        "\n",
        "\n",
        "We are able to see the full lineage of all the operations that have been performed on an RDD by using the `RDD.toDebugString()` method. As your transformations become more complex, you are encouraged to call this method to get a better understanding of the dependencies between RDDs. Try calling it on the `discounted` RDD to see what RDDs it is dependent on."
      ]
    },
    {
      "cell_type": "code",
      "execution_count": 41,
      "metadata": {
        "id": "s2bmEs_v0S_g",
        "outputId": "900abc60-56fb-4c12-edee-514ed9dbafcd",
        "colab": {
          "base_uri": "https://localhost:8080/",
          "height": 0
        }
      },
      "outputs": [
        {
          "output_type": "stream",
          "name": "stdout",
          "text": [
            "b'(10) PythonRDD[18] at RDD at PythonRDD.scala:53 []\\n |   ParallelCollectionRDD[8] at readRDDFromFile at PythonRDD.scala:274 []'\n"
          ]
        }
      ],
      "source": [
        "print(discounted.toDebugString())"
      ]
    },
    {
      "cell_type": "markdown",
      "metadata": {
        "id": "b7vZUfXX0S_g"
      },
      "source": [
        "### Map vs. Flatmap\n",
        "\n",
        "Depending on how you want your data to be outputted, you might want to use `.flatMap()` rather than a simple `.map()`. Let's take a look at how it performs operations versus the standard map. Let's say we wanted to maintain the original amount BuyStuff receives for each item as well as the new amount after the tax and discount are applied. Create a map function that will return a tuple with (original price, post-discount price)."
      ]
    },
    {
      "cell_type": "code",
      "execution_count": 42,
      "metadata": {
        "id": "4vGijH-20S_g",
        "outputId": "3ab1df33-bf48-46c7-ee5b-7af1aafece6f",
        "colab": {
          "base_uri": "https://localhost:8080/",
          "height": 0
        }
      },
      "outputs": [
        {
          "output_type": "stream",
          "name": "stdout",
          "text": [
            "1000\n",
            "[(0.417022004702574, 0.347518337252145), (1.4406489868843162, 1.2005408224035967), (0.0003431244520346599, 0.0002859370433622166), (1.209330290527359, 1.0077752421061326), (0.7337794540855652, 0.6114828784046377), (0.5540315686127868, 0.461692973843989), (1.3038214796436964, 1.0865178997030804), (2.764485816344382, 2.303738180286985), (3.5709072680760294, 2.9757560567300243), (5.3881673400335695, 4.490139450027975)]\n"
          ]
        }
      ],
      "source": [
        "mapped = price_items.map(lambda x: (x, x / 1.08 * 0.9))\n",
        "print(mapped.count())\n",
        "print(mapped.take(10))"
      ]
    },
    {
      "cell_type": "markdown",
      "metadata": {
        "id": "PKB3P6SX0S_h"
      },
      "source": [
        "Note that we have 1000 tuples created to our specification. Let's take a look at how `.flatMap()` differs in its implementation. Use the `.flatMap()` method with the same function you created above."
      ]
    },
    {
      "cell_type": "code",
      "execution_count": 43,
      "metadata": {
        "id": "14a8ljLL0S_h",
        "outputId": "d254bea1-116f-48ec-dcb3-9c8232da0acd",
        "colab": {
          "base_uri": "https://localhost:8080/",
          "height": 0
        }
      },
      "outputs": [
        {
          "output_type": "stream",
          "name": "stdout",
          "text": [
            "2000\n",
            "[0.417022004702574, 0.347518337252145, 1.4406489868843162, 1.2005408224035967, 0.0003431244520346599, 0.0002859370433622166, 1.209330290527359, 1.0077752421061326, 0.7337794540855652, 0.6114828784046377]\n"
          ]
        }
      ],
      "source": [
        "flat_mapped = price_items.flatMap(lambda x: (x, x / 1.08 * 0.9))\n",
        "print(flat_mapped.count())\n",
        "print(flat_mapped.take(10))"
      ]
    },
    {
      "cell_type": "markdown",
      "metadata": {
        "id": "IfgJWHwz0S_h"
      },
      "source": [
        "Rather than being represented by tuples, all of the  values are now on the same level. When we are trying to combine different items together, it is sometimes necessary to use `.flatMap()` rather than `.map()` in order to properly reduce to our specifications. This is not one of those instances, but in the upcoming lab, you just might have to use it."
      ]
    },
    {
      "cell_type": "markdown",
      "metadata": {
        "id": "fe7sWqXV0S_h"
      },
      "source": [
        "## Filter\n",
        "After meeting with some external consultants, BuyStuff has determined that its business will be more profitable if it focuses on higher ticket items. Now, use the `.filter()` method to select items that bring in more than &#36;300 after tax and discount have been removed. A filter method is a specialized form of a map function that only returns the items that match a certain criterion. In the cell below:\n",
        "\n",
        "* use a lambda function within a `.filter()` method to meet the consultant's suggestion's specifications. set `RDD = selected_items`\n",
        "* calculate the total number of items remaining in BuyStuff's inventory"
      ]
    },
    {
      "cell_type": "code",
      "execution_count": 44,
      "metadata": {
        "id": "tfK0FgLq0S_i",
        "outputId": "af8cf3eb-599e-45ad-8ce5-e99658fc913b",
        "colab": {
          "base_uri": "https://localhost:8080/",
          "height": 0
        }
      },
      "outputs": [
        {
          "output_type": "execute_result",
          "data": {
            "text/plain": [
              "272"
            ]
          },
          "metadata": {},
          "execution_count": 44
        }
      ],
      "source": [
        "# use the filter function\n",
        "selected_items = price_items.map(lambda x: x /1.08 * 0.9).filter(lambda x: x>300)\n",
        "selected_items.count()\n",
        "# calculate total remaining in inventory \n"
      ]
    },
    {
      "cell_type": "markdown",
      "metadata": {
        "id": "9HLqUEgh0S_i"
      },
      "source": [
        "## Reduce\n",
        "\n",
        "Reduce functions are where you are in some way combing all of the variables that you have mapped out. Here is an example of how a reduce function works when the task is to sum all values:\n",
        "\n",
        "<img src = \"./images/reduce_function.png\" width = \"600\">  \n",
        "\n",
        "\n",
        "As you can see, the operation is performed within each partition first, after which, the results of the computations in each partition are combined to come up with one final answer.  \n",
        "\n",
        "Now it's time to figure out how much money BuyStuff would make from selling one of all of its items after they've reduced their inventory. Use the `.reduce()` method with a lambda function to add up all of the values in the RDD. Your lambda function should have two variables. "
      ]
    },
    {
      "cell_type": "code",
      "execution_count": 45,
      "metadata": {
        "id": "cj1V247v0S_i",
        "outputId": "fa621e00-4ca5-4da6-f803-b1796b3ed742",
        "colab": {
          "base_uri": "https://localhost:8080/",
          "height": 0
        }
      },
      "outputs": [
        {
          "output_type": "execute_result",
          "data": {
            "text/plain": [
              "123432.4660522227"
            ]
          },
          "metadata": {},
          "execution_count": 45
        }
      ],
      "source": [
        "selected_items.reduce(lambda x, y: x + y)"
      ]
    },
    {
      "cell_type": "markdown",
      "metadata": {
        "id": "Mwvima420S_i"
      },
      "source": [
        "The time has come for BuyStuff to open up shop and start selling its goods. It only has one of each item, but it's allowing 50 lucky users to buy as many items as they want while they remain in stock. Within seconds, BuyStuff is sold out. Below, you'll find the sales data in an RDD with tuples of (user, item bought)."
      ]
    },
    {
      "cell_type": "code",
      "execution_count": 46,
      "metadata": {
        "id": "Mq8HwEur0S_i",
        "outputId": "4f1f5fff-3efa-4f8b-e6ec-4813e33a957d",
        "colab": {
          "base_uri": "https://localhost:8080/",
          "height": 0
        }
      },
      "outputs": [
        {
          "output_type": "execute_result",
          "data": {
            "text/plain": [
              "[(13, 303.9717333600381),\n",
              " (34, 315.8957533626659),\n",
              " (31, 320.6109689548023),\n",
              " (13, 320.58739183867544),\n",
              " (32, 329.4565433918027),\n",
              " (25, 352.7343621192842),\n",
              " (10, 336.5077558595325)]"
            ]
          },
          "metadata": {},
          "execution_count": 46
        }
      ],
      "source": [
        "# Run this cell without changes\n",
        "import random\n",
        "random.seed(42)\n",
        "# generating simulated users that have bought each item\n",
        "sales_data = selected_items.map(lambda x: (random.randint(1, 50), x))\n",
        "\n",
        "sales_data.take(7)"
      ]
    },
    {
      "cell_type": "markdown",
      "metadata": {
        "id": "BOvyqbJJ0S_i"
      },
      "source": [
        "It's time to determine some basic statistics about BuyStuff users.\n",
        "\n",
        "Let's start off by creating an RDD that determines how much each user spent in total.\n",
        "To do this we can use a method called `.reduceByKey()` to perform reducing operations while grouping by keys. After you have calculated the total, use the `.sortBy()` method on the RDD to rank the users from the highest spending to the least spending. "
      ]
    },
    {
      "cell_type": "code",
      "execution_count": 68,
      "metadata": {
        "id": "4eDJ6d2c0S_j",
        "outputId": "19c40dd8-bc27-4a76-cccb-2815644dfb40",
        "colab": {
          "base_uri": "https://localhost:8080/",
          "height": 0
        }
      },
      "outputs": [
        {
          "output_type": "execute_result",
          "data": {
            "text/plain": [
              "[(50, 2298.000932876829),\n",
              " (40, 1954.7543680495098),\n",
              " (20, 1467.5359705673795),\n",
              " (30, 2310.429860236446),\n",
              " (10, 2082.8024762042623),\n",
              " (21, 2438.4517860508595),\n",
              " (11, 2194.811300684333),\n",
              " (31, 4364.103761446296),\n",
              " (41, 1837.957125700462),\n",
              " (1, 2461.085085759907)]"
            ]
          },
          "metadata": {},
          "execution_count": 68
        }
      ],
      "source": [
        "# calculate how much each user spent\n",
        "total_spent = sales_data.reduceByKey(lambda x, y: x + y)\n",
        "total_spent.take(10)"
      ]
    },
    {
      "cell_type": "code",
      "execution_count": 67,
      "metadata": {
        "id": "M41VZUr00S_j",
        "outputId": "0af37ff5-a5e6-48f5-9605-7e65b83a9d8f",
        "colab": {
          "base_uri": "https://localhost:8080/",
          "height": 0
        }
      },
      "outputs": [
        {
          "output_type": "execute_result",
          "data": {
            "text/plain": [
              "[(5, 4659.645463939241),\n",
              " (31, 4552.554382026292),\n",
              " (1, 4432.966020355411),\n",
              " (39, 4048.1969996553607),\n",
              " (29, 3970.440335418806),\n",
              " (28, 3878.7514633198534),\n",
              " (7, 3523.843784009601),\n",
              " (21, 3484.0893890591096),\n",
              " (18, 3482.40713558316),\n",
              " (4, 3450.519800273396),\n",
              " (13, 3413.3392303269748),\n",
              " (36, 3394.4689674713504),\n",
              " (47, 3381.2366217356703),\n",
              " (38, 3369.9578561435032),\n",
              " (44, 3149.799871191887),\n",
              " (26, 2946.359784412776),\n",
              " (42, 2902.8257816006553),\n",
              " (41, 2861.4386682042823),\n",
              " (25, 2852.996316188909),\n",
              " (35, 2843.447987708598),\n",
              " (50, 2816.080942527131),\n",
              " (15, 2721.1125418353536),\n",
              " (9, 2657.7277459298984),\n",
              " (49, 2594.1534222002847),\n",
              " (43, 2556.6466002658417),\n",
              " (33, 2439.9746456995886),\n",
              " (48, 2362.639235207994),\n",
              " (19, 2354.020310538241),\n",
              " (12, 2311.1216722448826),\n",
              " (27, 2109.133679589619),\n",
              " (6, 2070.5929468649774),\n",
              " (11, 2067.917779285436),\n",
              " (10, 2029.5596654992237),\n",
              " (40, 2024.0644315225081),\n",
              " (32, 1822.4578204041404),\n",
              " (8, 1800.2849852244349),\n",
              " (45, 1764.7704960149758),\n",
              " (24, 1601.2375969760055),\n",
              " (30, 1511.6899935649008),\n",
              " (23, 1347.9538862691809),\n",
              " (22, 1271.2914314776358),\n",
              " (14, 1223.3290392252939),\n",
              " (2, 1170.2983642339962),\n",
              " (46, 1083.3048406063579),\n",
              " (20, 1042.0278178260444),\n",
              " (16, 982.3461621088724),\n",
              " (37, 973.1736672257916),\n",
              " (17, 924.5200817361201),\n",
              " (34, 839.9417977357662),\n",
              " (3, 359.80659375737287)]"
            ]
          },
          "metadata": {},
          "execution_count": 67
        }
      ],
      "source": [
        "# sort the users from highest to lowest spenders\n",
        "total_spent.sortBy(lambda x: x[1], ascending= False).collect()"
      ]
    },
    {
      "cell_type": "markdown",
      "metadata": {
        "id": "394vizHx0S_j"
      },
      "source": [
        "Next, let's determine how many items were bought per user. This can be solved in one line using an RDD method. After you've counted the total number of items bought per person, sort the users from most number of items bought to least number of items. Time to start a customer loyalty program!"
      ]
    },
    {
      "cell_type": "code",
      "execution_count": 80,
      "metadata": {
        "id": "k4v0e2Ai0S_j",
        "outputId": "15464f13-4813-46cc-fe90-6bd246c41fdf",
        "colab": {
          "base_uri": "https://localhost:8080/",
          "height": 0
        }
      },
      "outputs": [
        {
          "output_type": "execute_result",
          "data": {
            "text/plain": [
              "[(29, 12),\n",
              " (18, 12),\n",
              " (34, 9),\n",
              " (45, 9),\n",
              " (39, 9),\n",
              " (47, 8),\n",
              " (7, 8),\n",
              " (31, 8),\n",
              " (25, 8),\n",
              " (17, 7),\n",
              " (9, 7),\n",
              " (13, 7),\n",
              " (30, 7),\n",
              " (16, 7),\n",
              " (23, 7),\n",
              " (21, 7),\n",
              " (11, 6),\n",
              " (48, 6),\n",
              " (50, 6),\n",
              " (41, 6),\n",
              " (2, 6),\n",
              " (38, 5),\n",
              " (36, 5),\n",
              " (46, 5),\n",
              " (4, 5),\n",
              " (28, 5),\n",
              " (49, 5),\n",
              " (19, 5),\n",
              " (32, 5),\n",
              " (35, 5),\n",
              " (14, 5),\n",
              " (5, 5),\n",
              " (40, 4),\n",
              " (15, 4),\n",
              " (43, 4),\n",
              " (27, 4),\n",
              " (37, 4),\n",
              " (42, 4),\n",
              " (3, 4),\n",
              " (22, 4),\n",
              " (33, 3),\n",
              " (6, 3),\n",
              " (20, 3),\n",
              " (10, 2),\n",
              " (12, 2),\n",
              " (26, 2),\n",
              " (24, 2),\n",
              " (44, 2),\n",
              " (8, 2),\n",
              " (1, 2)]"
            ]
          },
          "metadata": {},
          "execution_count": 80
        }
      ],
      "source": [
        "sorted(sales_data.countByKey().items(), key = lambda x: x[1], reverse = True)"
      ]
    },
    {
      "cell_type": "markdown",
      "metadata": {
        "id": "Ttebz-1N0S_k"
      },
      "source": [
        "### Stop the SparkContext\n",
        "\n",
        "Now that we are finished with our analysis, stop the `sc`."
      ]
    },
    {
      "cell_type": "code",
      "execution_count": 81,
      "metadata": {
        "id": "d--r55SP0S_k"
      },
      "outputs": [],
      "source": [
        "sc.stop()"
      ]
    },
    {
      "cell_type": "markdown",
      "metadata": {
        "id": "yGsR1WlH0S_k"
      },
      "source": [
        "### Additional Reading\n",
        "\n",
        "- [The original paper on RDDs](https://cs.stanford.edu/~matei/papers/2012/nsdi_spark.pdf)\n",
        "- [RDDs in Apache Spark](https://data-flair.training/blogs/create-rdds-in-apache-spark/)\n",
        "- [Programming with RDDs](https://runawayhorse001.github.io/LearningApacheSpark/rdd.html)\n",
        "- [RDD Transformations and Actions Summary](https://www.analyticsvidhya.com/blog/2016/10/using-pyspark-to-perform-transformations-and-actions-on-rdd/)"
      ]
    },
    {
      "cell_type": "markdown",
      "metadata": {
        "id": "46Vnxe7v0S_k"
      },
      "source": [
        "## Summary\n",
        "\n",
        "In this lab we went through a brief introduction to RDD creation from a Python collection, setting a number of logical partitions for an RDD and extracting lineage. We also used transformations and actions to perform calculations across RDDs on a distributed setup. In the next lab, you'll get the chance to apply these transformations on different books to calculate word counts and various statistics.\n"
      ]
    }
  ],
  "metadata": {
    "kernelspec": {
      "display_name": "Python (python3)",
      "language": "python",
      "name": "python3"
    },
    "language_info": {
      "codemirror_mode": {
        "name": "ipython",
        "version": 3
      },
      "file_extension": ".py",
      "mimetype": "text/x-python",
      "name": "python",
      "nbconvert_exporter": "python",
      "pygments_lexer": "ipython3",
      "version": "3.9.5"
    },
    "colab": {
      "name": "index.ipynb",
      "provenance": []
    }
  },
  "nbformat": 4,
  "nbformat_minor": 0
}